{
 "cells": [
  {
   "cell_type": "code",
   "execution_count": 1,
   "metadata": {
    "slideshow": {
     "slide_type": "slide"
    }
   },
   "outputs": [
    {
     "data": {
      "text/html": [
       "<style>.container { width:75% !important; }</style>"
      ],
      "text/plain": [
       "<IPython.core.display.HTML object>"
      ]
     },
     "metadata": {},
     "output_type": "display_data"
    }
   ],
   "source": [
    "from IPython.core.display import display, HTML\n",
    "display(HTML(\"<style>.container { width:75% !important; }</style>\"))"
   ]
  },
  {
   "cell_type": "markdown",
   "metadata": {
    "slideshow": {
     "slide_type": "slide"
    }
   },
   "source": [
    "# Machine Learning Validation"
   ]
  },
  {
   "cell_type": "markdown",
   "metadata": {
    "slideshow": {
     "slide_type": "-"
    }
   },
   "source": [
    "<img src=\"dcr.png\" alt=\"title1\" width=\"1150\"/>"
   ]
  },
  {
   "cell_type": "markdown",
   "metadata": {
    "slideshow": {
     "slide_type": "slide"
    }
   },
   "source": [
    "# Setup"
   ]
  },
  {
   "cell_type": "code",
   "execution_count": 2,
   "metadata": {
    "ExecuteTime": {
     "end_time": "2020-03-31T15:12:36.054531Z",
     "start_time": "2020-03-31T15:12:36.045524Z"
    },
    "slideshow": {
     "slide_type": "-"
    }
   },
   "outputs": [],
   "source": [
    "import warnings; warnings.simplefilter('ignore')\n",
    "from dcr import *\n",
    "%matplotlib inline\n",
    "\n",
    "plt.rcParams['figure.dpi'] = 100\n",
    "plt.rcParams['figure.figsize'] = (10, 6)\n",
    "plt.rcParams.update({'font.size': 16})"
   ]
  },
  {
   "cell_type": "markdown",
   "metadata": {
    "slideshow": {
     "slide_type": "slide"
    }
   },
   "source": [
    "# Synopsis"
   ]
  },
  {
   "cell_type": "markdown",
   "metadata": {
    "slideshow": {
     "slide_type": "-"
    }
   },
   "source": [
    "- Confirmation that model predictions are aligned with the observed outcomes\n",
    "- Qualitative and quantitative tools\n",
    "- All risk parameters: PD, LGD and EAD, correlations"
   ]
  },
  {
   "cell_type": "markdown",
   "metadata": {
    "slideshow": {
     "slide_type": "slide"
    }
   },
   "source": [
    "# Qualitative Validation"
   ]
  },
  {
   "cell_type": "markdown",
   "metadata": {
    "slideshow": {
     "slide_type": "-"
    }
   },
   "source": [
    "- CRR of Basel 3\n",
    "- Use test\n",
    "- Data quality\n",
    "- Proper documentation and reporting\n",
    "- Involvement, approval and understanding by the senior management"
   ]
  },
  {
   "cell_type": "markdown",
   "metadata": {
    "slideshow": {
     "slide_type": "slide"
    }
   },
   "source": [
    "# Quantitative Validation"
   ]
  },
  {
   "cell_type": "markdown",
   "metadata": {
    "slideshow": {
     "slide_type": "-"
    }
   },
   "source": [
    "## Basics"
   ]
  },
  {
   "cell_type": "markdown",
   "metadata": {
    "slideshow": {
     "slide_type": "-"
    }
   },
   "source": [
    "![Basel View on Validation](Validation_BIS14.jpg)\n",
    "\n",
    "Source: Basel Committee on Banking Supervision (2005b) and Baesens, Rösch \\& Scheule (2016)."
   ]
  },
  {
   "cell_type": "markdown",
   "metadata": {
    "slideshow": {
     "slide_type": "slide"
    }
   },
   "source": [
    "![Train-Test Split (in-time vs. out-of-time)](Traintest_time.jpg)"
   ]
  },
  {
   "cell_type": "markdown",
   "metadata": {
    "slideshow": {
     "slide_type": "slide"
    }
   },
   "source": [
    "## Backtesting as Part of Validation"
   ]
  },
  {
   "cell_type": "markdown",
   "metadata": {
    "slideshow": {
     "slide_type": "-"
    }
   },
   "source": [
    "- Forward looking predictions\n",
    "- Backtesting\n",
    "- Three criteria\n",
    "    - Discrimination/Classification \n",
    "    - Calibration\n",
    "    - Stability"
   ]
  },
  {
   "cell_type": "markdown",
   "metadata": {
    "slideshow": {
     "slide_type": "slide"
    }
   },
   "source": [
    "#  Metrics for Discriminatory Power "
   ]
  },
  {
   "cell_type": "markdown",
   "metadata": {
    "slideshow": {
     "slide_type": "-"
    }
   },
   "source": [
    "## Confusion Matrix "
   ]
  },
  {
   "cell_type": "markdown",
   "metadata": {
    "ExecuteTime": {
     "end_time": "2020-03-31T15:11:10.363116Z",
     "start_time": "2020-03-31T15:11:10.358122Z"
    },
    "slideshow": {
     "slide_type": "-"
    }
   },
   "source": [
    "\n",
    "\n",
    "| |  |  |  Predicted |\n",
    "| --- | --- | --- | --- |\n",
    "| |  | 0| 1 |\n",
    "|Actual | 0 | True Negative | False Positive |\n",
    "|| 1 | False Negative | True Positive |\n",
    "\n",
    " - Support 0: number of observed non-defaults: TN + FP; \n",
    " - Support 1: number of observed defaults: FN + TP. \n",
    " - True Negative Rate/Recall 0 (TNR, also known as specificity): TNR= TN / (TN + FP);\n",
    " - True Positive Rate/Recall  (TPR, also known as sensitivity/hit-rate): TPR = TP / (FN + TP);\n",
    " - False Positive Rate (FPR, also known as false-alarm-rate): FPR = FP / (TN + FP);\n",
    " - False Negative Rate (FNR) FNR=FN / (FN + TP).\n",
    " - Accuracy: (TP+TN)/(TP+TN+FP+FN) \n",
    " \n",
    " - Precision 0 (P_0, also known as negative predictive value): P_0 = TN / (TN + FN);\n",
    " - Precision 1 (P_1): P_1 = TP / (TP + FP);\n",
    " - False Discovery Rate (FDR): FDR = FP / (TP + FP);\n",
    " - True Discovery Rate (TDR): TP /(TP + FP) \n",
    " - Harmonic mean of Precision 0 and Recall 1 (F1 score): F1 score = 2 TN / (2 TN + FP + FN);\n",
    " - Harmonic mean of Precision 1 and Recall 1 (F1 score): F1 score = 2 TP / (2 TP + FP + FN).\n",
    " "
   ]
  },
  {
   "cell_type": "code",
   "execution_count": 3,
   "metadata": {
    "ExecuteTime": {
     "end_time": "2020-03-31T15:13:09.471335Z",
     "start_time": "2020-03-31T15:13:09.459307Z"
    },
    "slideshow": {
     "slide_type": "slide"
    }
   },
   "outputs": [
    {
     "name": "stdout",
     "output_type": "stream",
     "text": [
      "y-pred: [ True  True False False False False]\n",
      "Confusion matrix:\n",
      "[[3 1]\n",
      " [1 1]]\n"
     ]
    }
   ],
   "source": [
    "y_true = [1, 0, 1, 0, 0, 0]\n",
    "\n",
    "# Sorted PD predictions\n",
    "PD_pred =[0.07, 0.05, 0.04, 0.03, 0.02, 0.01] \n",
    "\n",
    "# Set the threshold for default to 5% PD\n",
    "y_pred = np.asarray(PD_pred) >= 0.05 \n",
    "print('y-pred:', y_pred)\n",
    "\n",
    "cm = confusion_matrix(y_true, y_pred)\n",
    "print('Confusion matrix:')\n",
    "print(cm)"
   ]
  },
  {
   "cell_type": "markdown",
   "metadata": {
    "slideshow": {
     "slide_type": "slide"
    }
   },
   "source": [
    "## Accuracy Metrics "
   ]
  },
  {
   "cell_type": "code",
   "execution_count": 4,
   "metadata": {
    "ExecuteTime": {
     "end_time": "2020-03-31T15:14:10.018627Z",
     "start_time": "2020-03-31T15:14:10.013593Z"
    },
    "slideshow": {
     "slide_type": "-"
    }
   },
   "outputs": [],
   "source": [
    "TN = cm[0,0]\n",
    "FP = cm[0,1]\n",
    "FN = cm[1,0]\n",
    "TP = cm[1,1]"
   ]
  },
  {
   "cell_type": "code",
   "execution_count": 5,
   "metadata": {
    "ExecuteTime": {
     "end_time": "2020-02-19T00:47:15.364066Z",
     "start_time": "2020-02-19T00:47:15.356068Z"
    },
    "slideshow": {
     "slide_type": "skip"
    }
   },
   "outputs": [
    {
     "name": "stdout",
     "output_type": "stream",
     "text": [
      "Precision 0: 0.75\n",
      "Precision 1: 0.5\n"
     ]
    }
   ],
   "source": [
    "Precision_0 = TN/(FN+TN) \n",
    "Precision_1 = TP/(TP+FP) \n",
    "\n",
    "print('Precision 0:', Precision_0)\n",
    "print('Precision 1:', Precision_1)"
   ]
  },
  {
   "cell_type": "code",
   "execution_count": 6,
   "metadata": {
    "ExecuteTime": {
     "end_time": "2020-03-31T15:15:08.631136Z",
     "start_time": "2020-03-31T15:15:08.623135Z"
    },
    "slideshow": {
     "slide_type": "skip"
    }
   },
   "outputs": [
    {
     "name": "stdout",
     "output_type": "stream",
     "text": [
      "Recall 0: 0.75\n",
      "Recall 1: 0.5\n"
     ]
    }
   ],
   "source": [
    "Recall_0 = TN / (FP+TN) # Specificity\n",
    "Recall_1 = TP / (TP+FN) # Sensitivity\n",
    "\n",
    "print('Recall 0:', Recall_0)\n",
    "print('Recall 1:', Recall_1)"
   ]
  },
  {
   "cell_type": "code",
   "execution_count": 7,
   "metadata": {
    "slideshow": {
     "slide_type": "skip"
    }
   },
   "outputs": [
    {
     "name": "stdout",
     "output_type": "stream",
     "text": [
      "F1score 0: 0.75\n",
      "F1score 1: 0.5\n"
     ]
    }
   ],
   "source": [
    "F1score_0 = 2*TN / (2*TN+FP+FN)\n",
    "F1score_1 = 2*TP / (2*TP+FP+FN)\n",
    "\n",
    "print('F1score 0:', F1score_0)\n",
    "print('F1score 1:', F1score_1)"
   ]
  },
  {
   "cell_type": "code",
   "execution_count": 8,
   "metadata": {
    "slideshow": {
     "slide_type": "skip"
    }
   },
   "outputs": [
    {
     "name": "stdout",
     "output_type": "stream",
     "text": [
      "Support 0: 4\n",
      "Support 1: 2\n"
     ]
    }
   ],
   "source": [
    "support_0 = np.sum(np.asarray(y_true)==0)\n",
    "support_1 = np.sum(np.asarray(y_true)==1)\n",
    "\n",
    "print('Support 0:', support_0)\n",
    "print('Support 1:', support_1)"
   ]
  },
  {
   "cell_type": "code",
   "execution_count": 9,
   "metadata": {
    "slideshow": {
     "slide_type": "-"
    }
   },
   "outputs": [
    {
     "name": "stdout",
     "output_type": "stream",
     "text": [
      "Accuracy: 0.6667\n"
     ]
    }
   ],
   "source": [
    "accuracy = (TP+TN) / (TP+TN+FP+FN)\n",
    "\n",
    "print('Accuracy:', accuracy.round(decimals=4))"
   ]
  },
  {
   "cell_type": "code",
   "execution_count": 10,
   "metadata": {
    "slideshow": {
     "slide_type": "skip"
    }
   },
   "outputs": [
    {
     "name": "stdout",
     "output_type": "stream",
     "text": [
      "Macro Precision: 0.625\n",
      "Weighted Precision: 0.6667\n"
     ]
    }
   ],
   "source": [
    "Macro_precision = (Precision_0 + Precision_1)/2\n",
    "Weighted_precision = (Precision_0*support_0 + Precision_1*support_1)/len(y_true)\n",
    "\n",
    "print('Macro Precision:', Macro_precision)\n",
    "print('Weighted Precision:', Weighted_precision.round(decimals=4))"
   ]
  },
  {
   "cell_type": "code",
   "execution_count": 11,
   "metadata": {
    "slideshow": {
     "slide_type": "skip"
    }
   },
   "outputs": [
    {
     "name": "stdout",
     "output_type": "stream",
     "text": [
      "Macro Recall: 0.625\n",
      "Weighted Recall: 0.6667\n"
     ]
    }
   ],
   "source": [
    "Macro_recall = (Recall_0 + Recall_1)/2\n",
    "Weighted_recall = (Recall_0 *support_0 + Recall_1*support_1)/len(y_true)\n",
    "\n",
    "print('Macro Recall:', Macro_recall)\n",
    "print('Weighted Recall:', Weighted_recall.round(decimals=4))"
   ]
  },
  {
   "cell_type": "code",
   "execution_count": 12,
   "metadata": {
    "slideshow": {
     "slide_type": "skip"
    }
   },
   "outputs": [
    {
     "name": "stdout",
     "output_type": "stream",
     "text": [
      "Macro F1: 0.625\n",
      "Weighted F1: 0.6667\n"
     ]
    }
   ],
   "source": [
    "Macro_f1 = (F1score_0 + F1score_1)/2\n",
    "Weighted_f1 = (F1score_0 *support_0 + F1score_1*support_1)/len(y_true)\n",
    "\n",
    "print('Macro F1:', Macro_f1)\n",
    "print('Weighted F1:', Weighted_f1.round(decimals=4))"
   ]
  },
  {
   "cell_type": "markdown",
   "metadata": {
    "slideshow": {
     "slide_type": "slide"
    }
   },
   "source": [
    "## Classification Report "
   ]
  },
  {
   "cell_type": "code",
   "execution_count": 13,
   "metadata": {
    "ExecuteTime": {
     "end_time": "2020-02-19T00:55:00.742433Z",
     "start_time": "2020-02-19T00:55:00.726440Z"
    },
    "slideshow": {
     "slide_type": "-"
    }
   },
   "outputs": [
    {
     "name": "stdout",
     "output_type": "stream",
     "text": [
      "Classification Report:\n",
      "              precision    recall  f1-score   support\n",
      "\n",
      "           0       0.75      0.75      0.75         4\n",
      "           1       0.50      0.50      0.50         2\n",
      "\n",
      "    accuracy                           0.67         6\n",
      "   macro avg       0.62      0.62      0.62         6\n",
      "weighted avg       0.67      0.67      0.67         6\n",
      "\n"
     ]
    }
   ],
   "source": [
    "print('Classification Report:')\n",
    "print(classification_report(y_true, y_pred))"
   ]
  },
  {
   "cell_type": "markdown",
   "metadata": {
    "slideshow": {
     "slide_type": "slide"
    }
   },
   "source": [
    "## ROC"
   ]
  },
  {
   "cell_type": "markdown",
   "metadata": {
    "slideshow": {
     "slide_type": "-"
    }
   },
   "source": [
    "- Define (arbitrary) threshold for the PD of 5% above \n",
    "- Vary this threshold from zero to one and compute the sensitivity and 1-specificity\n",
    "-  **Receiver Operating Characteristic (ROC)** plots these pairs in a two-dimensional diagram"
   ]
  },
  {
   "cell_type": "code",
   "execution_count": 14,
   "metadata": {
    "ExecuteTime": {
     "end_time": "2020-03-31T15:18:56.357059Z",
     "start_time": "2020-03-31T15:18:56.351057Z"
    },
    "slideshow": {
     "slide_type": "-"
    }
   },
   "outputs": [],
   "source": [
    "# define sensitivity and 1-specificity as function\n",
    "def sen(value):\n",
    "    global y_true    \n",
    "    y_pred = np.asarray(PD_pred) >= value \n",
    "    \n",
    "    print('Threshold:', threshold)\n",
    "    print('Default prediction:', y_pred)\n",
    "    \n",
    "    cm = confusion_matrix(y_true, y_pred)\n",
    "    TN = cm[0,0]\n",
    "    TP = cm[1,1]\n",
    "    FP = cm[0,1]\n",
    "    FN = cm[1,0]   \n",
    "    \n",
    "    sensitivity = TP/(TP+FN)\n",
    "    one_min_specificity = 1-TN/(TN+FP)    \n",
    "    return sensitivity, one_min_specificity"
   ]
  },
  {
   "cell_type": "markdown",
   "metadata": {
    "slideshow": {
     "slide_type": "slide"
    }
   },
   "source": [
    "- Vary threshold-PD through all PDs from high to low\n",
    "- Compute function `sen` for all these PD values \n",
    "- Output the PDs, the respective default predictions, and sensitivity and 1-specificity"
   ]
  },
  {
   "cell_type": "code",
   "execution_count": 15,
   "metadata": {
    "ExecuteTime": {
     "end_time": "2020-03-31T15:18:58.248649Z",
     "start_time": "2020-03-31T15:18:58.228656Z"
    },
    "slideshow": {
     "slide_type": "-"
    }
   },
   "outputs": [
    {
     "name": "stdout",
     "output_type": "stream",
     "text": [
      "Threshold: 0.07\n",
      "Default prediction: [ True False False False False False]\n",
      "Sen., 1-Spec.: (0.5, 0.0)\n",
      "Threshold: 0.05\n",
      "Default prediction: [ True  True False False False False]\n",
      "Sen., 1-Spec.: (0.5, 0.25)\n",
      "Threshold: 0.04\n",
      "Default prediction: [ True  True  True False False False]\n",
      "Sen., 1-Spec.: (1.0, 0.25)\n",
      "Threshold: 0.03\n",
      "Default prediction: [ True  True  True  True False False]\n",
      "Sen., 1-Spec.: (1.0, 0.5)\n",
      "Threshold: 0.02\n",
      "Default prediction: [ True  True  True  True  True False]\n",
      "Sen., 1-Spec.: (1.0, 0.75)\n",
      "Threshold: 0.01\n",
      "Default prediction: [ True  True  True  True  True  True]\n",
      "Sen., 1-Spec.: (1.0, 1.0)\n",
      "Combined data:\n",
      "[[0.   0.  ]\n",
      " [0.5  0.  ]\n",
      " [0.5  0.25]\n",
      " [1.   0.25]\n",
      " [1.   0.5 ]\n",
      " [1.   0.75]\n",
      " [1.   1.  ]]\n"
     ]
    }
   ],
   "source": [
    "data_roc = np.array([0,0])\n",
    "\n",
    "for threshold in PD_pred:\n",
    "    result = sen(threshold) \n",
    "    data_roc = np.append(data_roc, np.asarray(result), axis=0)\n",
    "    \n",
    "    print('Sen., 1-Spec.:', result)\n",
    "    \n",
    "data_roc = data_roc.reshape(-1,2)\n",
    "\n",
    "print('Combined data:')\n",
    "print(data_roc)"
   ]
  },
  {
   "cell_type": "code",
   "execution_count": 16,
   "metadata": {
    "ExecuteTime": {
     "end_time": "2020-03-31T15:19:01.413452Z",
     "start_time": "2020-03-31T15:19:01.220489Z"
    },
    "slideshow": {
     "slide_type": "slide"
    }
   },
   "outputs": [
    {
     "data": {
      "text/plain": [
       "(0.0, 1.1)"
      ]
     },
     "execution_count": 16,
     "metadata": {},
     "output_type": "execute_result"
    }
   ],
   "source": [
    "plt.plot(data_roc[:,1],data_roc[:,0], marker='o')\n",
    "plt.xlabel('1-Specificity')\n",
    "plt.ylabel('Sensitivity')\n",
    "plt.xlim([0, 1])\n",
    "plt.ylim([0, 1.1])"
   ]
  },
  {
   "cell_type": "code",
   "execution_count": 17,
   "metadata": {
    "ExecuteTime": {
     "end_time": "2020-03-31T15:19:16.601469Z",
     "start_time": "2020-03-31T15:19:16.405468Z"
    },
    "slideshow": {
     "slide_type": "slide"
    }
   },
   "outputs": [
    {
     "name": "stdout",
     "output_type": "stream",
     "text": [
      "Area Under ROC: 0.875\n"
     ]
    }
   ],
   "source": [
    "# scikit-learn\n",
    "fpr, tpr, thresholds = roc_curve(y_true, PD_pred)\n",
    "roc_auc = roc_auc_score(y_true, PD_pred)\n",
    "\n",
    "print(\"Area Under ROC:\", roc_auc)\n",
    "\n",
    "plt.figure()\n",
    "plt.plot(fpr, tpr, marker='o')\n",
    "plt.xlim([0, 1])\n",
    "plt.ylim([0, 1.1])\n",
    "plt.ylabel('Sensitivity')\n",
    "plt.xlabel('1-Specificity')\n",
    "plt.show()"
   ]
  },
  {
   "cell_type": "markdown",
   "metadata": {
    "slideshow": {
     "slide_type": "slide"
    }
   },
   "source": [
    "![ROC and Entries in the Confusion Matrix](ROC1.jpg)"
   ]
  },
  {
   "cell_type": "markdown",
   "metadata": {
    "slideshow": {
     "slide_type": "slide"
    }
   },
   "source": [
    "![ROC for Perfect Discrimination](ROC3.jpg)"
   ]
  },
  {
   "cell_type": "markdown",
   "metadata": {
    "slideshow": {
     "slide_type": "slide"
    }
   },
   "source": [
    "![ROC for Random Model](ROC2.jpg)"
   ]
  },
  {
   "cell_type": "markdown",
   "metadata": {
    "slideshow": {
     "slide_type": "slide"
    }
   },
   "source": [
    "## Portfolio Dependence"
   ]
  },
  {
   "cell_type": "markdown",
   "metadata": {
    "slideshow": {
     "slide_type": "-"
    }
   },
   "source": [
    "- Curves and metrics are portfolio dependent\n",
    "- Curves and metrics are time dependent\n",
    "\n",
    "Example:\n",
    "- Portfolio 1 has 50,000 loans with known PDs of 4% and 50,000 loans with known PDs of 6%;\n",
    "- Portfolio 2 has 50,000 loans with known PDs of 1% and 50,000 loans with known PDs of 9%.\n",
    "\n"
   ]
  },
  {
   "cell_type": "code",
   "execution_count": 18,
   "metadata": {
    "ExecuteTime": {
     "end_time": "2020-03-31T15:22:32.888743Z",
     "start_time": "2020-03-31T15:22:32.864777Z"
    },
    "slideshow": {
     "slide_type": "-"
    }
   },
   "outputs": [],
   "source": [
    "True_PD1 =np.append(np.ones(50000) * 0.04, np.ones(50000) * 0.06, axis=0) \n",
    "True_PD2 =np.append(np.ones(50000) * 0.01, np.ones(50000) * 0.09, axis=0) \n",
    "\n",
    "x1 = pd.get_dummies(True_PD1)\n",
    "x2 = pd.get_dummies(True_PD2)"
   ]
  },
  {
   "cell_type": "code",
   "execution_count": 19,
   "metadata": {
    "ExecuteTime": {
     "end_time": "2020-03-31T15:22:34.846311Z",
     "start_time": "2020-03-31T15:22:34.837280Z"
    },
    "slideshow": {
     "slide_type": "slide"
    }
   },
   "outputs": [],
   "source": [
    "np.random.seed(seed=123)\n",
    "\n",
    "defaults1 = np.random.uniform(size=len(True_PD1)) < True_PD1\n",
    "defaults2 = np.random.uniform(size=len(True_PD2)) < True_PD2"
   ]
  },
  {
   "cell_type": "code",
   "execution_count": 20,
   "metadata": {
    "ExecuteTime": {
     "end_time": "2020-03-31T15:22:37.428292Z",
     "start_time": "2020-03-31T15:22:37.421287Z"
    },
    "slideshow": {
     "slide_type": "-"
    }
   },
   "outputs": [
    {
     "name": "stdout",
     "output_type": "stream",
     "text": [
      "Default rate 1: 0.0504\n",
      "Default rate 2: 0.0497\n"
     ]
    }
   ],
   "source": [
    "print('Default rate 1:',np.mean(defaults1, axis=0).round(decimals=4))\n",
    "print('Default rate 2:',np.mean(defaults2, axis=0).round(decimals=4))"
   ]
  },
  {
   "cell_type": "code",
   "execution_count": 21,
   "metadata": {
    "ExecuteTime": {
     "end_time": "2020-03-31T15:22:40.432537Z",
     "start_time": "2020-03-31T15:22:39.764538Z"
    },
    "slideshow": {
     "slide_type": "slide"
    }
   },
   "outputs": [
    {
     "name": "stdout",
     "output_type": "stream",
     "text": [
      "Optimization terminated successfully.\n",
      "         Current function value: 0.198316\n",
      "         Iterations 7\n",
      "                           Logit Regression Results                           \n",
      "==============================================================================\n",
      "Dep. Variable:                      y   No. Observations:               100000\n",
      "Model:                          Logit   Df Residuals:                    99998\n",
      "Method:                           MLE   Df Model:                            1\n",
      "Date:                Mon, 15 Feb 2021   Pseudo R-squ.:                0.006596\n",
      "Time:                        16:56:08   Log-Likelihood:                -19832.\n",
      "converged:                       True   LL-Null:                       -19963.\n",
      "Covariance Type:            nonrobust   LLR p-value:                 3.211e-59\n",
      "==============================================================================\n",
      "                 coef    std err          z      P>|z|      [0.025      0.975]\n",
      "------------------------------------------------------------------------------\n",
      "0.04          -3.1991      0.023   -138.826      0.000      -3.244      -3.154\n",
      "0.06          -2.7242      0.019   -146.412      0.000      -2.761      -2.688\n",
      "==============================================================================\n"
     ]
    }
   ],
   "source": [
    "lr_1 = sm.Logit(defaults1, x1).fit()\n",
    "\n",
    "print(lr_1.summary())"
   ]
  },
  {
   "cell_type": "code",
   "execution_count": 22,
   "metadata": {
    "ExecuteTime": {
     "end_time": "2020-03-31T15:22:42.754600Z",
     "start_time": "2020-03-31T15:22:42.203604Z"
    },
    "slideshow": {
     "slide_type": "slide"
    }
   },
   "outputs": [
    {
     "name": "stdout",
     "output_type": "stream",
     "text": [
      "Optimization terminated successfully.\n",
      "         Current function value: 0.179138\n",
      "         Iterations 9\n",
      "                           Logit Regression Results                           \n",
      "==============================================================================\n",
      "Dep. Variable:                      y   No. Observations:               100000\n",
      "Model:                          Logit   Df Residuals:                    99998\n",
      "Method:                           MLE   Df Model:                            1\n",
      "Date:                Mon, 15 Feb 2021   Pseudo R-squ.:                 0.09384\n",
      "Time:                        16:56:08   Log-Likelihood:                -17914.\n",
      "converged:                       True   LL-Null:                       -19769.\n",
      "Covariance Type:            nonrobust   LLR p-value:                     0.000\n",
      "==============================================================================\n",
      "                 coef    std err          z      P>|z|      [0.025      0.975]\n",
      "------------------------------------------------------------------------------\n",
      "0.01          -4.5497      0.044   -103.502      0.000      -4.636      -4.464\n",
      "0.09          -2.3262      0.016   -148.093      0.000      -2.357      -2.295\n",
      "==============================================================================\n"
     ]
    }
   ],
   "source": [
    "lr_2 = sm.Logit(defaults2, x2).fit()\n",
    "\n",
    "print(lr_2.summary())"
   ]
  },
  {
   "cell_type": "code",
   "execution_count": 23,
   "metadata": {
    "ExecuteTime": {
     "end_time": "2020-03-31T15:22:45.280091Z",
     "start_time": "2020-03-31T15:22:44.988093Z"
    },
    "slideshow": {
     "slide_type": "slide"
    }
   },
   "outputs": [
    {
     "name": "stdout",
     "output_type": "stream",
     "text": [
      "AUROC 1: 0.5584\n",
      "AUROC 2: 0.7077\n"
     ]
    }
   ],
   "source": [
    "fpr1, tpr1, thresholds1 = roc_curve(defaults1, lr_1.predict(x1))\n",
    "\n",
    "roc_auc1 = roc_auc_score(defaults1, lr_1.predict(x1))\n",
    "\n",
    "print('AUROC 1:', roc_auc1.round(decimals=4))\n",
    "\n",
    "fpr2, tpr2, thresholds2 =  roc_curve(defaults2, lr_2.predict(x2))\n",
    "roc_auc2 = roc_auc_score(defaults2, lr_2.predict(x2))\n",
    "\n",
    "print('AUROC 2:', roc_auc2.round(decimals=4))\n",
    "\n",
    "plt.figure()\n",
    "plt.plot(fpr1, tpr1, label='Portfolio 1')\n",
    "plt.plot(fpr2, tpr2, color='red', label='Portfolio 2', linestyle='--')\n",
    "\n",
    "plt.plot([0, 1], [0, 1], color='grey')\n",
    "plt.xlim([0.0, 1.0])\n",
    "plt.ylim([0.0, 1.05])\n",
    "plt.ylabel('Sensitivity')\n",
    "plt.xlabel('1-Specificity')\n",
    "plt.legend(loc=\"best\")\n",
    "plt.show()"
   ]
  },
  {
   "cell_type": "markdown",
   "metadata": {
    "slideshow": {
     "slide_type": "slide"
    }
   },
   "source": [
    "#  Metrics for Calibration "
   ]
  },
  {
   "cell_type": "markdown",
   "metadata": {
    "slideshow": {
     "slide_type": "-"
    }
   },
   "source": [
    "- Brier score\n",
    "- $R^2$\n",
    "- Binomial test\n",
    "- Jeffrey's Prior test\n",
    "- Calibration curve\n",
    "- Hosmer-Lemeshow test"
   ]
  },
  {
   "cell_type": "markdown",
   "metadata": {
    "slideshow": {
     "slide_type": "slide"
    }
   },
   "source": [
    "## Brier Score"
   ]
  },
  {
   "cell_type": "markdown",
   "metadata": {
    "slideshow": {
     "slide_type": "-"
    }
   },
   "source": [
    "\\begin{align*}BS = \\frac{1}{n}\\sum_i^n (\\hat{\\pi}_i-d_i)^2\\end{align*}"
   ]
  },
  {
   "cell_type": "code",
   "execution_count": 24,
   "metadata": {
    "ExecuteTime": {
     "end_time": "2020-03-31T15:26:13.342355Z",
     "start_time": "2020-03-31T15:26:13.335356Z"
    },
    "slideshow": {
     "slide_type": "-"
    }
   },
   "outputs": [
    {
     "name": "stdout",
     "output_type": "stream",
     "text": [
      "Brier score: 0.2984\n"
     ]
    }
   ],
   "source": [
    "brier_score1 = np.mean((np.asarray(PD_pred) - np.asarray(y_true))**2)\n",
    "\n",
    "print('Brier score:', brier_score1.round(decimals=4))"
   ]
  },
  {
   "cell_type": "code",
   "execution_count": 25,
   "metadata": {
    "ExecuteTime": {
     "end_time": "2020-03-31T15:26:15.227304Z",
     "start_time": "2020-03-31T15:26:15.222306Z"
    },
    "slideshow": {
     "slide_type": "-"
    }
   },
   "outputs": [
    {
     "name": "stdout",
     "output_type": "stream",
     "text": [
      "Brier score: 0.2984\n"
     ]
    }
   ],
   "source": [
    "brier_score2 = brier_score_loss(y_true, PD_pred)\n",
    "\n",
    "print('Brier score:', brier_score2.round(decimals=4))"
   ]
  },
  {
   "cell_type": "markdown",
   "metadata": {
    "slideshow": {
     "slide_type": "slide"
    }
   },
   "source": [
    "## `scikit-learn` R-square"
   ]
  },
  {
   "cell_type": "markdown",
   "metadata": {
    "slideshow": {
     "slide_type": "-"
    }
   },
   "source": [
    "\\begin{align*}\n",
    "R^2 = 1 - \\frac{\\sum_{i=1}^{n} (d_i - \\hat{\\pi}_i)^2}{\\sum_{i=1}^{n} (d_i - \\bar{d})^2}\n",
    "\\end{align*}\n",
    "\n",
    "- $R^2$ value range from minus infinity to plus one\n",
    "- Negative value: the mean of the data provides a better fit to the outcomes than the fitted function value"
   ]
  },
  {
   "cell_type": "code",
   "execution_count": 26,
   "metadata": {
    "ExecuteTime": {
     "end_time": "2020-03-31T15:27:04.604847Z",
     "start_time": "2020-03-31T15:27:04.597897Z"
    },
    "slideshow": {
     "slide_type": "-"
    }
   },
   "outputs": [
    {
     "name": "stdout",
     "output_type": "stream",
     "text": [
      "R-square: -0.3428\n"
     ]
    }
   ],
   "source": [
    "num = np.sum((np.asarray(y_true) - np.asarray(PD_pred))**2)\n",
    "denom =  np.sum((np.asarray(y_true) - np.mean(np.asarray(y_true)))**2)\n",
    "\n",
    "r2 = 1-num/denom\n",
    "\n",
    "print('R-square:', r2.round(decimals=4))"
   ]
  },
  {
   "cell_type": "code",
   "execution_count": 27,
   "metadata": {
    "ExecuteTime": {
     "end_time": "2020-03-31T15:27:06.979070Z",
     "start_time": "2020-03-31T15:27:06.973108Z"
    },
    "slideshow": {
     "slide_type": "-"
    }
   },
   "outputs": [
    {
     "name": "stdout",
     "output_type": "stream",
     "text": [
      "R-square: -0.3428\n"
     ]
    }
   ],
   "source": [
    "r2 = r2_score(y_true, PD_pred)\n",
    "\n",
    "print('R-square:', r2.round(decimals=4))"
   ]
  },
  {
   "cell_type": "markdown",
   "metadata": {
    "slideshow": {
     "slide_type": "slide"
    }
   },
   "source": [
    "## OLS R-square"
   ]
  },
  {
   "cell_type": "markdown",
   "metadata": {
    "slideshow": {
     "slide_type": "-"
    }
   },
   "source": [
    "\\begin{align*}\n",
    "R^2_{OLS} = 1 - \\frac{\\sum_{i=1}^{n} (\\hat{\\pi}_i-\\bar{d})^2}{\\sum_{i=1}^{n} (d_i-\\bar{d})^2}\n",
    "\\end{align*}"
   ]
  },
  {
   "cell_type": "code",
   "execution_count": 28,
   "metadata": {
    "ExecuteTime": {
     "end_time": "2020-03-31T15:27:37.603691Z",
     "start_time": "2020-03-31T15:27:37.595690Z"
    },
    "slideshow": {
     "slide_type": "-"
    }
   },
   "outputs": [
    {
     "name": "stdout",
     "output_type": "stream",
     "text": [
      "R-square (OLS): 0.4321\n"
     ]
    }
   ],
   "source": [
    "corr,_= stats.pearsonr(y_true, PD_pred)\n",
    "r2_OLS = corr**2\n",
    "\n",
    "print('R-square (OLS):', r2_OLS.round(decimals=4))"
   ]
  },
  {
   "cell_type": "markdown",
   "metadata": {
    "slideshow": {
     "slide_type": "slide"
    }
   },
   "source": [
    "## Binomial Test "
   ]
  },
  {
   "cell_type": "markdown",
   "metadata": {
    "slideshow": {
     "slide_type": "-"
    }
   },
   "source": [
    "- PDF of the Binomial distribution\n",
    "\\begin{align*}\n",
    "P\\left(\\sum_{i=1}^{n} D_i = d | n, \\pi_0 \\right) = P\\left(d | n, \\pi_0 \\right) = \\left(\\begin{matrix}\n",
    "n  \\\\\n",
    "d\n",
    "\\end{matrix}\\right)  \\pi_0^d (1-\\pi_0)^{n-d}, \\ \\ d=0,...,n\n",
    "\\end{align*}\n",
    "\n",
    "- Critical number of defaults\n",
    "\\begin{align*}\n",
    "k^* = \\min \\{ k | \\sum_{j=k}^n \\left(\\begin{matrix}\n",
    "n  \\\\\n",
    "j\n",
    "\\end{matrix}\\right)  \\pi_0^j (1-\\pi_0)^{n-j}  \\leq 1- \\alpha \\}\n",
    "\\end{align*}"
   ]
  },
  {
   "cell_type": "code",
   "execution_count": 29,
   "metadata": {
    "ExecuteTime": {
     "end_time": "2020-03-31T15:30:11.935030Z",
     "start_time": "2020-03-31T15:30:11.929007Z"
    },
    "slideshow": {
     "slide_type": "slide"
    }
   },
   "outputs": [
    {
     "name": "stdout",
     "output_type": "stream",
     "text": [
      "Counts: 6\n",
      "Mean PD: 0.0367\n"
     ]
    }
   ],
   "source": [
    "n = len(PD_pred)\n",
    "pi_0 = np.mean(PD_pred)\n",
    "\n",
    "print('Counts:', n)\n",
    "print('Mean PD:', pi_0.round(decimals=4))"
   ]
  },
  {
   "cell_type": "code",
   "execution_count": 30,
   "metadata": {
    "ExecuteTime": {
     "end_time": "2020-03-31T15:31:08.757452Z",
     "start_time": "2020-03-31T15:31:08.741433Z"
    },
    "slideshow": {
     "slide_type": "-"
    }
   },
   "outputs": [
    {
     "name": "stdout",
     "output_type": "stream",
     "text": [
      "Defaults: CDF:\n",
      "0 0.7992 0.2008\n",
      "1 0.9817 0.0183\n",
      "2 0.9991 0.0009\n",
      "3 1.0 0.0\n",
      "4 1.0 0.0\n",
      "5 1.0 0.0\n"
     ]
    }
   ],
   "source": [
    "print('Defaults:', 'CDF:')\n",
    "\n",
    "for d in range(0,n):\n",
    "    print(d, binom.cdf(d, n, pi_0).round(decimals=4), (1-binom.cdf(d, n, pi_0)).round(decimals=4))"
   ]
  },
  {
   "cell_type": "code",
   "execution_count": 31,
   "metadata": {
    "ExecuteTime": {
     "end_time": "2020-03-31T15:30:37.899880Z",
     "start_time": "2020-03-31T15:30:37.891887Z"
    },
    "slideshow": {
     "slide_type": "-"
    }
   },
   "outputs": [
    {
     "name": "stdout",
     "output_type": "stream",
     "text": [
      "k_star: 1.291\n",
      "p_star: 0.2152\n"
     ]
    }
   ],
   "source": [
    "alpha=0.01\n",
    "k_star = norm.ppf(1-alpha) * np.sqrt(n * pi_0 * (1-pi_0)) + n * pi_0\n",
    "p_star = norm.ppf(1-alpha) * np.sqrt(pi_0 * (1-pi_0)/n) + pi_0\n",
    "\n",
    "print('k_star:', k_star.round(decimals=4))\n",
    "print('p_star:', p_star.round(decimals=4))"
   ]
  },
  {
   "cell_type": "code",
   "execution_count": 32,
   "metadata": {
    "ExecuteTime": {
     "end_time": "2020-03-31T15:30:39.965668Z",
     "start_time": "2020-03-31T15:30:39.958641Z"
    },
    "slideshow": {
     "slide_type": "-"
    }
   },
   "outputs": [
    {
     "name": "stdout",
     "output_type": "stream",
     "text": [
      "Binomial p-value: 0.0183\n"
     ]
    }
   ],
   "source": [
    "d = 2\n",
    "print('Binomial p-value:',binom_test(d, n=n, p= pi_0, alternative='greater').round(decimals=4))"
   ]
  },
  {
   "cell_type": "markdown",
   "metadata": {
    "slideshow": {
     "slide_type": "slide"
    }
   },
   "source": [
    "## Jeffrey's Prior Test "
   ]
  },
  {
   "cell_type": "markdown",
   "metadata": {
    "slideshow": {
     "slide_type": "-"
    }
   },
   "source": [
    "- Bayesian style test\n",
    "- Biinomial distribution for defaults: $D\\sim Bin(n,\\pi)$\n",
    "- Jeffrey's prior for PD: $Beta(0.5, 0.5)$\n",
    "- Posterior of PD $\\pi$ is $Beta(d+0.5, n-d+0.5)$\n",
    "- Computed CDF of posterior distribution, evaluated at the predicted PD $\\pi_0$"
   ]
  },
  {
   "cell_type": "code",
   "execution_count": 33,
   "metadata": {
    "ExecuteTime": {
     "end_time": "2020-03-31T15:38:16.980913Z",
     "start_time": "2020-03-31T15:38:16.694912Z"
    },
    "slideshow": {
     "slide_type": "slide"
    }
   },
   "outputs": [
    {
     "name": "stdout",
     "output_type": "stream",
     "text": [
      "Jeffrey's Prior Bayesian 'p-value': 0.0044\n"
     ]
    }
   ],
   "source": [
    "n = len(PD_pred)\n",
    "pi_0 = np.mean(PD_pred)\n",
    "d= 2\n",
    "defaultrate = d/n\n",
    "x = np.linspace(0, 1, 50)\n",
    "prior = beta.pdf(x, 0.5, 0.5)\n",
    "posterior = beta.pdf(x, d+0.5, n-d+0.5)\n",
    "\n",
    "print(\"Jeffrey's Prior Bayesian 'p-value':\", beta.cdf(pi_0, d+0.5, n-d+0.5).round(decimals=4))\n",
    "\n",
    "plt.plot([pi_0, pi_0], [0, 2.5], label='PD under H0')\n",
    "plt.plot([d/n, d/n], [0, 2.5], color='red', linestyle='dashed', label='Observed rate')\n",
    "plt.plot(x, prior, color='green', linestyle='dotted', label='Prior' )\n",
    "plt.plot(x, posterior, color = 'black', linestyle='dashdot', label='Posterior')\n",
    "plt.ylabel('PDF')\n",
    "plt.xlabel('Default rate')\n",
    "plt.legend(loc=\"best\")\n",
    "plt.show()"
   ]
  },
  {
   "cell_type": "markdown",
   "metadata": {
    "slideshow": {
     "slide_type": "slide"
    }
   },
   "source": [
    "## Calibration curve "
   ]
  },
  {
   "cell_type": "markdown",
   "metadata": {
    "slideshow": {
     "slide_type": "-"
    }
   },
   "source": [
    "\n",
    "- Create some buckets (bins) with similar predicted PDs, e.g., with uniform width (for example 0-0.05, 0.05-0.1 and so on) or by deciles\n",
    "- Plot default rate against average predicted PDs \n",
    "- Scatters should lie along the diagonal"
   ]
  },
  {
   "cell_type": "code",
   "execution_count": 34,
   "metadata": {
    "ExecuteTime": {
     "end_time": "2020-03-31T15:40:12.045342Z",
     "start_time": "2020-03-31T15:40:11.832342Z"
    },
    "slideshow": {
     "slide_type": "-"
    }
   },
   "outputs": [],
   "source": [
    "y_true = [1, 0, 1, 0, 0, 0]\n",
    "PD_pred =[0.07, 0.05, 0.04, 0.03, 0.02, 0.01] # Sorted PD predictions\n",
    "\n",
    "n_bins=3\n",
    "fop, mpv = calibration_curve(y_true, PD_pred, n_bins=n_bins, strategy = 'quantile')\n",
    "\n",
    "plt.plot([0, 1], [0, 1], color = 'black')\n",
    "plt.plot(mpv, fop, marker='o', linestyle='')\n",
    "plt.ylabel('Observed rate')\n",
    "plt.xlabel('PD Predictions')\n",
    "plt.show()"
   ]
  },
  {
   "cell_type": "markdown",
   "metadata": {
    "slideshow": {
     "slide_type": "slide"
    }
   },
   "source": [
    "## Hosmer-Lemeshow "
   ]
  },
  {
   "cell_type": "markdown",
   "metadata": {
    "slideshow": {
     "slide_type": "-"
    }
   },
   "source": [
    "- Hosmer-Lemeshow test statistic\n",
    "\\begin{align*}\n",
    "\\chi_{HL}^2=\\sum_{g=1}^G \\frac{(O_g-n_g\\hat{\\pi}_g)^2}{n_g\\hat{\\pi}_g(1-\\hat{\\pi}_g)}\n",
    "\\end{align*}\n",
    "- $G$: number of groups/classes or rating grades \n",
    "- $O_g$: observed total frequency of defaults in group $g$\n",
    "- $\\chi^2$ distributed with $G-2$ degrees of freedom under the null hypothesis that all groupwise PD predictions are correct"
   ]
  },
  {
   "cell_type": "code",
   "execution_count": 35,
   "metadata": {
    "ExecuteTime": {
     "end_time": "2020-03-31T15:42:06.508200Z",
     "start_time": "2020-03-31T15:42:06.502197Z"
    },
    "slideshow": {
     "slide_type": "-"
    }
   },
   "outputs": [
    {
     "name": "stdout",
     "output_type": "stream",
     "text": [
      "[0. 1. 1.] [0.03 0.07 0.12]\n"
     ]
    }
   ],
   "source": [
    "n_g = len(y_true)/n_bins\n",
    "O_g = fop * n_g\n",
    "np_g = n_g * mpv\n",
    "\n",
    "num = (O_g-np_g)**2\n",
    "denom = np_g * (1-mpv)\n",
    "ratio = num/denom\n",
    "\n",
    "print(O_g, np_g)"
   ]
  },
  {
   "cell_type": "markdown",
   "metadata": {
    "slideshow": {
     "slide_type": "-"
    }
   },
   "source": [
    "Then compute the HL-statistic\n",
    "\n",
    "$$\n",
    "\\chi_{HL}^2=\\sum_{g=1}^G \\frac{(O_g-n_g\\hat{\\pi}_g)^2}{n_g\\hat{\\pi}_g(1-\\hat{\\pi}_g)} = \\frac{(0-0.03)^2}{0.03*(1-0.015)} + \\frac{(1-0.07)^2}{0.07*(1-0.035)} + \\frac{(1-0.12)^2}{0.12*(1-0.06)} = 19.6996\n",
    "$$\n",
    "\n",
    "and p-value\n"
   ]
  },
  {
   "cell_type": "code",
   "execution_count": 36,
   "metadata": {
    "ExecuteTime": {
     "end_time": "2020-03-31T15:49:23.115961Z",
     "start_time": "2020-03-31T15:49:23.108959Z"
    },
    "slideshow": {
     "slide_type": "-"
    }
   },
   "outputs": [
    {
     "name": "stdout",
     "output_type": "stream",
     "text": [
      "HL statistic: 19.6996\n",
      "p-value: 0.0001\n"
     ]
    }
   ],
   "source": [
    "HL = np.sum(ratio).round(4)\n",
    "pvalue = 1-chi2.cdf(HL,n_bins-1).round(4)\n",
    "\n",
    "print('HL statistic:', HL)\n",
    "print('p-value:', pvalue.round(decimals=4))"
   ]
  },
  {
   "cell_type": "markdown",
   "metadata": {
    "slideshow": {
     "slide_type": "slide"
    }
   },
   "source": [
    "#  Metrics for Stability "
   ]
  },
  {
   "cell_type": "markdown",
   "metadata": {
    "slideshow": {
     "slide_type": "-"
    }
   },
   "source": [
    "- Stability of a model: parameters should not change over time\n",
    "- Test by creating time dummies and interactions\n",
    "- Logit model\n",
    "\\begin{align*}\n",
    "PD_{it}=P(D_{it}=1|x_{it-1})=F(\\beta_0+\\beta_1 \\cdot x_{it-1})\n",
    "\\end{align*}\n",
    "- Define time dummy\n",
    "\\begin{align*}\n",
    "c_{t*} =\n",
    "  \t\\begin{cases}\n",
    "  \t\t1 & \\text{if } t > t* \\cr\n",
    "  \t\t0 & \\text{otherwise}\n",
    "  \t\\end{cases}\n",
    "\\end{align*}\n",
    "and include it into the regression\n",
    "\\begin{align*}\n",
    "PD_{it}= F(\\beta_0 +\\beta_1 \\cdot x_{it-1} + \\beta_2 \\cdot c_{t*} + \\beta_3\\cdot x_{it-1}\\cdot c_{t*})\n",
    "\\end{align*}\n",
    "\n",
    "- Two regression equations\n",
    "\\begin{align*}\n",
    "PD_{it}=F(\\beta_0 +\\beta_1 \\cdot x_{it-1})\n",
    "\\end{align*}\n",
    "if $c_{t*}=0$, i.e., $t\\leq t*$ and \n",
    "\\begin{align*}\n",
    "PD_{it}= F(\\beta_0 +\\beta_1 \\cdot x_{it-1} + \\beta_2 \\cdot c_{t*} + \\beta_3\\cdot x_{it-1}\\cdot c_{t*})\n",
    "\\end{align*}\n",
    "if $c_{t*}=1$, i.e., $t > t*$.\n",
    "\n",
    "- Test whether $\\beta_2$ and $\\beta_3$ are different from zero"
   ]
  },
  {
   "cell_type": "markdown",
   "metadata": {
    "slideshow": {
     "slide_type": "slide"
    }
   },
   "source": [
    "# Function `validation`"
   ]
  },
  {
   "cell_type": "code",
   "execution_count": 37,
   "metadata": {
    "ExecuteTime": {
     "end_time": "2020-03-31T15:53:32.537244Z",
     "start_time": "2020-03-31T15:53:29.999244Z"
    },
    "slideshow": {
     "slide_type": "-"
    }
   },
   "outputs": [],
   "source": [
    "default_time = data.default_time.values\n",
    "time = data.time.values\n",
    "\n",
    "validation(default_time, default_time, time)"
   ]
  },
  {
   "cell_type": "markdown",
   "metadata": {
    "slideshow": {
     "slide_type": "slide"
    }
   },
   "source": [
    "# Other Outcomes"
   ]
  },
  {
   "cell_type": "markdown",
   "metadata": {
    "slideshow": {
     "slide_type": "-"
    }
   },
   "source": [
    "- Apply metrics to metric outcomes (EAD conversion measures and LGD)\n",
    "- F Brier score and r-square measures straightwfrward\n",
    "\n",
    "- Adjustments for\n",
    " - Log loss\n",
    " - AUROC\n",
    " - Binomial p-value\n",
    " - Jeffrey's p-value\n",
    " \n",
    "- Compute mean outcome ($\\overline{outcome}$) and apply a categorization\n",
    "\\begin{align*}\n",
    "\\text{outcomeD} = \\begin{cases}\n",
    "\t\t\t1 & outcome \\geq \\overline{outcome} \\cr\n",
    "\t\t\t0 & outcome < \\overline{outcome}\n",
    "\t\t\t\\end{cases}\n",
    "\\end{align*}\n"
   ]
  },
  {
   "cell_type": "markdown",
   "metadata": {
    "slideshow": {
     "slide_type": "slide"
    }
   },
   "source": [
    "# Validation Case Study"
   ]
  },
  {
   "cell_type": "markdown",
   "metadata": {
    "slideshow": {
     "slide_type": "-"
    }
   },
   "source": [
    "## Data Preparation"
   ]
  },
  {
   "cell_type": "code",
   "execution_count": 38,
   "metadata": {
    "ExecuteTime": {
     "end_time": "2020-03-31T15:57:51.931605Z",
     "start_time": "2020-03-31T15:57:50.178410Z"
    },
    "slideshow": {
     "slide_type": "-"
    }
   },
   "outputs": [],
   "source": [
    "from dcr import *\n",
    "data = data.query('time <=40').copy()\n",
    "\n",
    "_, data_train, data_test, X_train_scaled, X_test_scaled, y_train, y_test = dataprep(data, depvar='default_time', splitvar='time', threshold=26)"
   ]
  },
  {
   "cell_type": "code",
   "execution_count": 39,
   "metadata": {
    "ExecuteTime": {
     "end_time": "2020-03-31T15:58:03.394942Z",
     "start_time": "2020-03-31T15:58:03.386928Z"
    },
    "scrolled": false,
    "slideshow": {
     "slide_type": "-"
    }
   },
   "outputs": [
    {
     "name": "stdout",
     "output_type": "stream",
     "text": [
      "Observations in train data:  (12702, 11)\n",
      "Observations in test data:  (27368, 11)\n",
      "Default rate in train data:  0.0104\n",
      "Default rate in test data:  0.0355\n"
     ]
    }
   ],
   "source": [
    "print('Observations in train data: ', X_train_scaled.shape)\n",
    "print('Observations in test data: ', X_test_scaled.shape)\n",
    "print('Default rate in train data: ', np.mean(y_train).round(4))\n",
    "print('Default rate in test data: ', np.mean(y_test).round(4))"
   ]
  },
  {
   "cell_type": "markdown",
   "metadata": {
    "slideshow": {
     "slide_type": "slide"
    }
   },
   "source": [
    "## Model Fitting "
   ]
  },
  {
   "cell_type": "code",
   "execution_count": 40,
   "metadata": {
    "ExecuteTime": {
     "end_time": "2020-03-31T15:58:37.275109Z",
     "start_time": "2020-03-31T15:58:13.936076Z"
    },
    "scrolled": true,
    "slideshow": {
     "slide_type": "-"
    }
   },
   "outputs": [
    {
     "name": "stdout",
     "output_type": "stream",
     "text": [
      "Coefficients: [[-0.2817 -0.2565  0.2965 -0.8004  0.0186 -0.0263  0.09    0.0147 -0.0978\n",
      "  -0.056   0.2978]]\n",
      "Intercept [-5.2851]\n"
     ]
    }
   ],
   "source": [
    "model_lr1 = LogisticRegression(penalty='none', fit_intercept=True, solver='saga', tol =1e-15, max_iter=10000)\n",
    "model_lr1.fit(X_train_scaled, y_train)\n",
    "\n",
    "print('Coefficients:', model_lr1.coef_.round(decimals=4))\n",
    "print('Intercept', model_lr1.intercept_.round(decimals=4))"
   ]
  },
  {
   "cell_type": "markdown",
   "metadata": {
    "slideshow": {
     "slide_type": "slide"
    }
   },
   "source": [
    "## Validation"
   ]
  },
  {
   "cell_type": "code",
   "execution_count": 41,
   "metadata": {
    "ExecuteTime": {
     "end_time": "2020-03-31T15:58:39.898069Z",
     "start_time": "2020-03-31T15:58:37.429069Z"
    },
    "slideshow": {
     "slide_type": "-"
    }
   },
   "outputs": [],
   "source": [
    "predictions_train = model_lr1.predict_proba(X_train_scaled)[:,1].T\n",
    "\n",
    "validation(predictions_train, y_train, data_train.loc[:,'time'].values)"
   ]
  },
  {
   "cell_type": "code",
   "execution_count": 42,
   "metadata": {
    "ExecuteTime": {
     "end_time": "2020-03-31T15:58:42.546122Z",
     "start_time": "2020-03-31T15:58:40.248128Z"
    },
    "slideshow": {
     "slide_type": "slide"
    }
   },
   "outputs": [],
   "source": [
    "predictions_test = model_lr1.predict_proba(X_test_scaled)[:,1].T\n",
    "\n",
    "validation(predictions_test, y_test, data_test.loc[:,'time'].values)"
   ]
  },
  {
   "cell_type": "markdown",
   "metadata": {
    "slideshow": {
     "slide_type": "slide"
    }
   },
   "source": [
    "## Model Stability"
   ]
  },
  {
   "cell_type": "code",
   "execution_count": 43,
   "metadata": {
    "ExecuteTime": {
     "end_time": "2020-03-31T15:59:52.234723Z",
     "start_time": "2020-03-31T15:59:52.210762Z"
    },
    "slideshow": {
     "slide_type": "-"
    }
   },
   "outputs": [
    {
     "name": "stdout",
     "output_type": "stream",
     "text": [
      "   default_time  time  hpi_time  time_dummy  interact_hpi\n",
      "0             0    25    226.29           0          0.00\n",
      "1             0    26    225.10           0          0.00\n",
      "2             0    27    222.39           1        222.39\n",
      "3             0    28    219.67           1        219.67\n",
      "4             0    29    217.37           1        217.37\n"
     ]
    }
   ],
   "source": [
    "data_pdstab = data[['default_time', 'time', 'hpi_time']].copy()\n",
    "\n",
    "data_pdstab.loc[: ,'time_dummy'] = np.where(data_pdstab['time']>26, 1, 0) & np.where(data_pdstab['time']<=40, 1, 0)\n",
    "data_pdstab.loc[: ,'interact_hpi'] =  data_pdstab['hpi_time'] * data_pdstab['time_dummy']\n",
    "\n",
    "print(data_pdstab.head().round(decimals=2))"
   ]
  },
  {
   "cell_type": "code",
   "execution_count": 44,
   "metadata": {
    "ExecuteTime": {
     "end_time": "2020-03-31T16:00:01.214297Z",
     "start_time": "2020-03-31T16:00:00.793298Z"
    },
    "slideshow": {
     "slide_type": "slide"
    }
   },
   "outputs": [
    {
     "name": "stdout",
     "output_type": "stream",
     "text": [
      "Optimization terminated successfully.\n",
      "         Current function value: 0.121318\n",
      "         Iterations 9\n",
      "                           Logit Regression Results                           \n",
      "==============================================================================\n",
      "Dep. Variable:                      y   No. Observations:                41955\n",
      "Model:                          Logit   Df Residuals:                    41951\n",
      "Method:                           MLE   Df Model:                            3\n",
      "Date:                Mon, 15 Feb 2021   Pseudo R-squ.:                 0.03295\n",
      "Time:                        16:56:29   Log-Likelihood:                -5089.9\n",
      "converged:                       True   LL-Null:                       -5263.3\n",
      "Covariance Type:            nonrobust   LLR p-value:                 7.163e-75\n",
      "================================================================================\n",
      "                   coef    std err          z      P>|z|      [0.025      0.975]\n",
      "--------------------------------------------------------------------------------\n",
      "hpi_time        -0.0086      0.002     -3.496      0.000      -0.013      -0.004\n",
      "interact_hpi    -0.0039      0.003     -1.419      0.156      -0.009       0.001\n",
      "time_dummy       1.7598      0.546      3.224      0.001       0.690       2.830\n",
      "const           -2.7905      0.493     -5.656      0.000      -3.757      -1.824\n",
      "================================================================================\n"
     ]
    }
   ],
   "source": [
    "X = data_pdstab[['hpi_time', 'interact_hpi', 'time_dummy']]\n",
    "y = data_pdstab['default_time'].values.reshape(-1,)\n",
    "\n",
    "X_logit = sm.add_constant(X, prepend=False)\n",
    "logit_model = sm.Logit(y, X_logit).fit()\n",
    "\n",
    "print(logit_model.summary())"
   ]
  },
  {
   "cell_type": "markdown",
   "metadata": {
    "slideshow": {
     "slide_type": "slide"
    }
   },
   "source": [
    " - Model before the crisis is \n",
    "\n",
    "$$PD_{it}= F(-2.7905  -0.0086 \\cdot HPI)$$\n",
    "\n",
    " - Model model for period 27 to 40 is\n",
    "\n",
    "$$PD_{it}= F(-1.0307 - 0.0125 \\cdot HPI)$$\n",
    "\n",
    "where $-1.0307 = -2.7905 + 1.7598 $ and $- 0.0125 = -0.0086 -0.0039 $\n",
    "\n",
    "  - Coefficient of time dummy is positive and statistically significant at the 5% level\n",
    "  - Shifting the intercept towards zero and PDs upwards\n"
   ]
  },
  {
   "cell_type": "code",
   "execution_count": 45,
   "metadata": {
    "ExecuteTime": {
     "end_time": "2020-03-31T16:00:58.500079Z",
     "start_time": "2020-03-31T16:00:58.496081Z"
    },
    "slideshow": {
     "slide_type": "slide"
    }
   },
   "outputs": [],
   "source": [
    "def PD_fun(HPI):\n",
    "    linpred1 = -2.7905  -0.0086  * HPI\n",
    "    linpred2 = -1.0307 - 0.0125 * HPI\n",
    "    \n",
    "    PD1 = np.exp(linpred1) / (1+np.exp(linpred1))\n",
    "    PD2 = np.exp(linpred2) / (1+np.exp(linpred2))\n",
    "    \n",
    "    return PD1, PD2"
   ]
  },
  {
   "cell_type": "code",
   "execution_count": 46,
   "metadata": {
    "ExecuteTime": {
     "end_time": "2020-03-31T16:01:10.001349Z",
     "start_time": "2020-03-31T16:01:08.322349Z"
    },
    "scrolled": true,
    "slideshow": {
     "slide_type": "-"
    }
   },
   "outputs": [],
   "source": [
    "x = np.linspace(0, 250, 50)\n",
    "HPI = x\n",
    "PD_pred = PD_fun(HPI)\n",
    "\n",
    "plt.plot(HPI, PD_pred[0], label='Pre-crisis')  \n",
    "plt.plot(HPI, PD_pred[1], color='red', label='Crisis', linestyle='--')\n",
    "plt.ylabel('PD prediction')\n",
    "plt.xlabel('HPI')\n",
    "plt.legend(loc=\"best\")\n",
    "plt.show()"
   ]
  },
  {
   "cell_type": "markdown",
   "metadata": {
    "slideshow": {
     "slide_type": "slide"
    }
   },
   "source": [
    "# Sandbox Problems"
   ]
  },
  {
   "cell_type": "markdown",
   "metadata": {},
   "source": [
    " - Estimate a credit risk model for mortgage default probabilities (PD). Include two standard explanatory variables which are FICO and LTV at origination. Generate fitted values for PD and run function `validation`. Analyze the validation output.\n",
    " - How can you improve the fit over time? Add one variable of your choice, re-estimate the PD model and generate fitted values for PD and run function `validation`. Analyze the output. \n",
    " - Compute the confusion matrix for threshold values of 0%, 20%, 40%, 60%, 80% and 100%. Plot the ROC.\n",
    " "
   ]
  },
  {
   "cell_type": "markdown",
   "metadata": {
    "slideshow": {
     "slide_type": "slide"
    }
   },
   "source": [
    "# Copyright and Disclaimer"
   ]
  },
  {
   "cell_type": "markdown",
   "metadata": {
    "slideshow": {
     "slide_type": "-"
    }
   },
   "source": [
    "Copyright: The workshop resources (handbook and codes) provided to you by Deep Credit Risk are\n",
    "protected by copyright. You are not permitted to distribute or re-use the workshop materials for\n",
    "commercial purposes without permission of Deep Credit Risk.\n",
    "\n",
    "Limit of Liability/Disclaimer of Warranty: While the authors and Deep Credit Risk have used their best effort\n",
    "in preparing this material, they make no representations or warranties with respect to\n",
    "the accuracy or completeness of the contents and specifically disclaim any implied\n",
    "warranties of merchantability or fitness for a particular purpose. No warranty may be\n",
    "created or extended by sales representatives or written sales materials. The advise and\n",
    "strategies contained herein may not be suitable for your situation. The authors and Deep Credit Risk shall not\n",
    "be liable for any loss of profit or any other commercial damages, including but not\n",
    "limited to special, incidental, consequential, or other damages."
   ]
  }
 ],
 "metadata": {
  "celltoolbar": "Slideshow",
  "hide_input": false,
  "kernelspec": {
   "display_name": "Python 3",
   "language": "python",
   "name": "python3"
  },
  "language_info": {
   "codemirror_mode": {
    "name": "ipython",
    "version": 3
   },
   "file_extension": ".py",
   "mimetype": "text/x-python",
   "name": "python",
   "nbconvert_exporter": "python",
   "pygments_lexer": "ipython3",
   "version": "3.8.3"
  },
  "latex_envs": {
   "LaTeX_envs_menu_present": false,
   "autoclose": false,
   "autocomplete": true,
   "bibliofile": "biblio.bib",
   "cite_by": "key",
   "current_citInitial": 1,
   "eqLabelWithNumbers": true,
   "eqNumInitial": 1,
   "hotkeys": {
    "equation": "Ctrl-E",
    "itemize": "Ctrl-I"
   },
   "labels_anchors": false,
   "latex_user_defs": false,
   "report_style_numbering": false,
   "user_envs_cfg": false
  },
  "nbTranslate": {
   "displayLangs": [
    "es",
    "en"
   ],
   "hotkey": "alt-t",
   "langInMainMenu": true,
   "sourceLang": "en",
   "targetLang": "es",
   "useGoogleTranslate": false
  },
  "toc": {
   "base_numbering": 1,
   "nav_menu": {},
   "number_sections": false,
   "sideBar": false,
   "skip_h1_title": false,
   "title_cell": "Table of Contents",
   "title_sidebar": "Contents",
   "toc_cell": false,
   "toc_position": {
    "height": "1008.18px",
    "left": "22.9833px",
    "top": "135.283px",
    "width": "165px"
   },
   "toc_section_display": true,
   "toc_window_display": true
  },
  "varInspector": {
   "cols": {
    "lenName": 16,
    "lenType": 16,
    "lenVar": 40
   },
   "kernels_config": {
    "python": {
     "delete_cmd_postfix": "",
     "delete_cmd_prefix": "del ",
     "library": "var_list.py",
     "varRefreshCmd": "print(var_dic_list())"
    },
    "r": {
     "delete_cmd_postfix": ") ",
     "delete_cmd_prefix": "rm(",
     "library": "var_list.r",
     "varRefreshCmd": "cat(var_dic_list()) "
    }
   },
   "types_to_exclude": [
    "module",
    "function",
    "builtin_function_or_method",
    "instance",
    "_Feature"
   ],
   "window_display": false
  }
 },
 "nbformat": 4,
 "nbformat_minor": 2
}

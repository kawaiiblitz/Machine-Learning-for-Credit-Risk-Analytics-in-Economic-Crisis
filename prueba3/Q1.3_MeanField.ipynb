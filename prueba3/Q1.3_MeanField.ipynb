{
 "cells": [
  {
   "cell_type": "markdown",
   "metadata": {},
   "source": [
    "#### 2.Use Mean Field Approximation and coordinate ascent."
   ]
  },
  {
   "cell_type": "code",
   "execution_count": 1,
   "metadata": {},
   "outputs": [
    {
     "data": {
      "text/plain": [
       "{4: array([[9.99309259e-01, 3.46756124e-04],\n",
       "        [3.43865194e-04, 1.19319781e-07]]),\n",
       " 3: array([[9.94881636e-01, 2.56912663e-03],\n",
       "        [2.54267137e-03, 6.56605219e-06]]),\n",
       " 2: array([[9.57555313e-01, 2.11887072e-02],\n",
       "        [2.07958120e-02, 4.60168062e-04]]),\n",
       " 1.5: array([[0.86321491, 0.06569387],\n",
       "        [0.06606354, 0.00502768]]),\n",
       " 1: array([[0.28825436, 0.24885508],\n",
       "        [0.24842279, 0.21446778]]),\n",
       " 0.5: array([[0.25078558, 0.24995891],\n",
       "        [0.25003986, 0.24921565]]),\n",
       " 0.01: array([[0.25001597, 0.25000612],\n",
       "        [0.24999388, 0.24998403]])}"
      ]
     },
     "execution_count": 1,
     "metadata": {},
     "output_type": "execute_result"
    }
   ],
   "source": [
    "import numpy as np\n",
    "\n",
    "beta_values = [4, 3, 2, 1.5, 1, 0.5, 0.01]\n",
    "probability_tables = {}\n",
    "\n",
    "# Mean field approximation function\n",
    "def mean_field_probability(beta, m):\n",
    "    # The mean field equation for the Ising model at a given site is given by\n",
    "    # tanh(beta * m), where m is the mean field (average magnetization).\n",
    "    return np.tanh(beta * m)\n",
    "\n",
    "# Iterate over each beta value to compute the joint probability distribution\n",
    "for beta in beta_values:\n",
    "    # Initialize mean field (magnetization) for the two nodes\n",
    "    # Start with a random initialization\n",
    "    m1 = np.random.rand()\n",
    "    m2 = np.random.rand()\n",
    "    \n",
    "    # Iterating\n",
    "    for _ in range(10000):\n",
    "        # Update the mean fields based on the previous values using mean field equations\n",
    "        m1_new = mean_field_probability(beta, m2)  # Update based on the other node\n",
    "        m2_new = mean_field_probability(beta, m1)  # Update based on the other node\n",
    "        \n",
    "        # Check for convergence \n",
    "        if np.allclose([m1, m2], [m1_new, m2_new], atol=1e-3):\n",
    "            break\n",
    "        \n",
    "        # Set the new mean field values for the next iteration\n",
    "        m1, m2 = m1_new, m2_new\n",
    "    \n",
    "    # Compute the joint probability distribution using the mean field values\n",
    "    # Assuming independence\n",
    "    p_up_up = (1 + m1) * (1 + m2) / 4  # Probability both are up\n",
    "    p_up_down = (1 + m1) * (1 - m2) / 4  # Probability up and down\n",
    "    p_down_up = (1 - m1) * (1 + m2) / 4  # Probability down and up\n",
    "    p_down_down = (1 - m1) * (1 - m2) / 4  # Probability both are down\n",
    "\n",
    "    probability_tables[beta] = np.array([[p_up_up, p_up_down], [p_down_up, p_down_down]])\n",
    "\n",
    "probability_tables"
   ]
  }
 ],
 "metadata": {
  "kernelspec": {
   "display_name": "Python 3",
   "language": "python",
   "name": "python3"
  },
  "language_info": {
   "codemirror_mode": {
    "name": "ipython",
    "version": 3
   },
   "file_extension": ".py",
   "mimetype": "text/x-python",
   "name": "python",
   "nbconvert_exporter": "python",
   "pygments_lexer": "ipython3",
   "version": "3.9.18"
  }
 },
 "nbformat": 4,
 "nbformat_minor": 2
}
